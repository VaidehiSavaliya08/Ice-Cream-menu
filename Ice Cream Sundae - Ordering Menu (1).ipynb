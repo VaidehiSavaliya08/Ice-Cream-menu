{
 "cells": [
  {
   "cell_type": "markdown",
   "id": "5986ff3e",
   "metadata": {},
   "source": [
    "#### Build an interactive application to order ice cream Sundays in an ice-cream parlour.\n"
   ]
  },
  {
   "cell_type": "code",
   "execution_count": null,
   "id": "4525769c",
   "metadata": {},
   "outputs": [
    {
     "name": "stdout",
     "output_type": "stream",
     "text": [
      "Welcome to the Nature's Ice Cream parlour\n",
      "Would like an ice cream(i) or a Sundae(s)?\n"
     ]
    }
   ],
   "source": [
    "import math\n",
    "\n",
    "class ice_cream:\n",
    "    r_small = 1.5\n",
    "    r_large = 2.5\n",
    "    pi = 3.14\n",
    "        \n",
    "    def flavour(self):\n",
    "        print (\"Available flavours of ice cream are Vanilla, Chocolate, Butterscotch, Blue_berry\")\n",
    "        flv = input(\"Which flavour of ice cream would you like \")\n",
    "        size = input(\"Would you like a small scoop or a large scoop (enter s/l)\")\n",
    "        i_cost = self.cost_ice_cream(size)\n",
    "        if order_type == \"i\":\n",
    "            print (\"The cost of the ice Cream is \", math.ceil(i_cost))\n",
    "        return math.ceil(i_cost)\n",
    "        \n",
    "    def cost_ice_cream(self, size):\n",
    "        if size==\"s\":\n",
    "            vol = 4/3 *(self.pi)* (self.r_small**3)\n",
    "            cost = vol * 0.5\n",
    "        elif size==\"l\":\n",
    "            vol = 4/3 *(self.pi)* (self.r_large**3)\n",
    "            cost = vol * 0.5\n",
    "        else:\n",
    "            print(\"Please enter a valid size\")\n",
    "        return cost\n",
    "            \n",
    "    \n",
    "class toppings(ice_cream):\n",
    "    \n",
    "    def sel_toppings(self):\n",
    "        print (\"Available toppings are Hot_fudge, Sprinkles, Caramel, Oreos, Nuts\")\n",
    "        top = input (\"Enter any number of toppings of your choice separated by a comma: \")\n",
    "        top_list = top.split(\",\")\n",
    "        i_cost = self.flavour()\n",
    "        t_cost = self.top_cost(top_list)\n",
    "        print (\"The cost for sunday is \",t_cost+ i_cost)\n",
    "        \n",
    "    def top_cost(self, top_list):\n",
    "        cost = len(top_list) * 2\n",
    "        return cost\n",
    "    \n",
    "\n",
    "print (\"Welcome to the Nature's Ice Cream parlour\")\n",
    " \n",
    "while True:     \n",
    "    print (\"Would like an ice cream(i) or a Sundae(s)?\")\n",
    "    order_type = input(\"Enter your response (i/s)\")\n",
    "    if order_type == \"i\":\n",
    "        order = ice_cream()\n",
    "        order.flavour()\n",
    "    elif order_type == \"s\":\n",
    "        sundae = toppings()\n",
    "        sundae.sel_toppings()\n",
    "    else:\n",
    "        print (\"Enter a valid choice\")\n",
    "        \n",
    "    print (\"Would like to order anything else\")\n",
    "    more = input (\"Enter your response as (y/n)\")\n",
    "    \n",
    "    if more == \"n\":\n",
    "        break  "
   ]
  },
  {
   "cell_type": "code",
   "execution_count": null,
   "id": "d2962374",
   "metadata": {},
   "outputs": [],
   "source": []
  }
 ],
 "metadata": {
  "kernelspec": {
   "display_name": "Python 3 (ipykernel)",
   "language": "python",
   "name": "python3"
  },
  "language_info": {
   "codemirror_mode": {
    "name": "ipython",
    "version": 3
   },
   "file_extension": ".py",
   "mimetype": "text/x-python",
   "name": "python",
   "nbconvert_exporter": "python",
   "pygments_lexer": "ipython3",
   "version": "3.9.7"
  }
 },
 "nbformat": 4,
 "nbformat_minor": 5
}
